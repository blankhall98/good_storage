{
 "cells": [
  {
   "cell_type": "markdown",
   "metadata": {},
   "source": [
    "# Construcción del API STORAGE\n",
    "\n",
    "Vamos a utilizar este API para:\n",
    "1. Manejar Inventario\n",
    "2. Administrar Ventas\n",
    "3. Análisis Estratégico"
   ]
  },
  {
   "cell_type": "markdown",
   "metadata": {},
   "source": [
    "### Importar Librerías"
   ]
  },
  {
   "cell_type": "code",
   "execution_count": 1,
   "metadata": {},
   "outputs": [],
   "source": [
    "import pandas as pd\n",
    "import numpy as np\n",
    "import matplotlib.pyplot as plt"
   ]
  },
  {
   "cell_type": "markdown",
   "metadata": {},
   "source": [
    "## Clases"
   ]
  },
  {
   "cell_type": "markdown",
   "metadata": {},
   "source": [
    "### Clase: Product"
   ]
  },
  {
   "cell_type": "code",
   "execution_count": 42,
   "metadata": {},
   "outputs": [],
   "source": [
    "class Product:\n",
    "    \n",
    "    def __init__(self,inputs):\n",
    "        self.name = inputs['name']\n",
    "        self.units = inputs['units']\n",
    "        self.adq_cost = inputs['adq_cost']\n",
    "        self.sell_price = inputs['sell_price']\n",
    "        \n",
    "    def adquire(self,x):\n",
    "        self.units = self.units + x\n",
    "        \n",
    "    def sell(self,x):\n",
    "        remain = self.units - x\n",
    "        if remain >= 0:\n",
    "            self.units = self.units - x\n",
    "            return x\n",
    "        else:\n",
    "            print('Not sufficient to fullfil sell')\n",
    "            return self.units\n",
    "            self.units = 0\n",
    "            \n",
    "    def change_adq_cost(self,x,x_range):\n",
    "        self.adq_cost[x_range] = x\n",
    "        \n",
    "    def change_sell_price(self,x):\n",
    "        self.sell_price = x"
   ]
  },
  {
   "cell_type": "code",
   "execution_count": 43,
   "metadata": {},
   "outputs": [],
   "source": [
    "properties = {\n",
    "    'name': 'Sabritas',\n",
    "    'units': 1,\n",
    "    'adq_cost': {\n",
    "        '10': 5,\n",
    "        '100': 4,\n",
    "        '1000': 3.5\n",
    "    },\n",
    "    'sell_price': 20\n",
    "}"
   ]
  },
  {
   "cell_type": "code",
   "execution_count": 44,
   "metadata": {},
   "outputs": [],
   "source": [
    "sabritas = Product(properties)"
   ]
  }
 ],
 "metadata": {
  "kernelspec": {
   "display_name": "Python 3",
   "language": "python",
   "name": "python3"
  },
  "language_info": {
   "codemirror_mode": {
    "name": "ipython",
    "version": 3
   },
   "file_extension": ".py",
   "mimetype": "text/x-python",
   "name": "python",
   "nbconvert_exporter": "python",
   "pygments_lexer": "ipython3",
   "version": "3.8.5"
  }
 },
 "nbformat": 4,
 "nbformat_minor": 4
}
